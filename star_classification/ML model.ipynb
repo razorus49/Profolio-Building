{
 "cells": [
  {
   "cell_type": "code",
   "execution_count": 4,
   "id": "58e029ea-4067-4bc9-a016-d15ecffcc8a7",
   "metadata": {},
   "outputs": [],
   "source": [
    "from sklearn import svm\n",
    "from sklearn.metrics import accuracy_score\n",
    "from sklearn.model_selection import train_test_split\n",
    "from sklearn.preprocessing import StandardScaler\n",
    "import os\n",
    "import numpy as np\n",
    "\n",
    "# features_arr = np.loadtxt(\"features.txt\")\n",
    "# labels_arr = np.loadtxt(\"labels.txt\")"
   ]
  },
  {
   "cell_type": "code",
   "execution_count": 5,
   "id": "4b906fd3-d82f-434c-8412-870c3cf7cfff",
   "metadata": {},
   "outputs": [
    {
     "name": "stdout",
     "output_type": "stream",
     "text": [
      "run cell\n",
      "scaning folder earth\n",
      "scaning folder jupiter\n",
      "scaning folder mars\n",
      "scaning folder mercury\n",
      "scaning folder neptune\n",
      "scaning folder saturn\n",
      "scaning folder uranus\n",
      "scaning folder venus\n"
     ]
    },
    {
     "ename": "ValueError",
     "evalue": "setting an array element with a sequence. The requested array has an inhomogeneous shape after 1 dimensions. The detected shape was (1672,) + inhomogeneous part.",
     "output_type": "error",
     "traceback": [
      "\u001b[1;31m---------------------------------------------------------------------------\u001b[0m",
      "\u001b[1;31mValueError\u001b[0m                                Traceback (most recent call last)",
      "Cell \u001b[1;32mIn[5], line 19\u001b[0m\n\u001b[0;32m     16\u001b[0m                 features\u001b[38;5;241m.\u001b[39mappend(feature_vector)\n\u001b[0;32m     17\u001b[0m                 labels\u001b[38;5;241m.\u001b[39mappend(class_name)\n\u001b[1;32m---> 19\u001b[0m \u001b[43mnp\u001b[49m\u001b[38;5;241;43m.\u001b[39;49m\u001b[43msavetxt\u001b[49m\u001b[43m(\u001b[49m\u001b[38;5;124;43m'\u001b[39;49m\u001b[38;5;124;43mfeatures.txt\u001b[39;49m\u001b[38;5;124;43m'\u001b[39;49m\u001b[43m,\u001b[49m\u001b[43m \u001b[49m\u001b[43mfeatures\u001b[49m\u001b[43m,\u001b[49m\u001b[43m \u001b[49m\u001b[43mdelimiter\u001b[49m\u001b[38;5;241;43m=\u001b[39;49m\u001b[38;5;124;43m'\u001b[39;49m\u001b[38;5;124;43m,\u001b[39;49m\u001b[38;5;124;43m'\u001b[39;49m\u001b[43m)\u001b[49m\n\u001b[0;32m     20\u001b[0m np\u001b[38;5;241m.\u001b[39msavetxt(\u001b[38;5;124m'\u001b[39m\u001b[38;5;124mlabels.txt\u001b[39m\u001b[38;5;124m'\u001b[39m, labels, delimiter\u001b[38;5;241m=\u001b[39m\u001b[38;5;124m'\u001b[39m\u001b[38;5;124m,\u001b[39m\u001b[38;5;124m'\u001b[39m)\n",
      "File \u001b[1;32m~\\AppData\\Local\\Programs\\Python\\Python311\\Lib\\site-packages\\numpy\\lib\\npyio.py:1566\u001b[0m, in \u001b[0;36msavetxt\u001b[1;34m(fname, X, fmt, delimiter, newline, header, footer, comments, encoding)\u001b[0m\n\u001b[0;32m   1563\u001b[0m     \u001b[38;5;28;01mraise\u001b[39;00m \u001b[38;5;167;01mValueError\u001b[39;00m(\u001b[38;5;124m'\u001b[39m\u001b[38;5;124mfname must be a string or file handle\u001b[39m\u001b[38;5;124m'\u001b[39m)\n\u001b[0;32m   1565\u001b[0m \u001b[38;5;28;01mtry\u001b[39;00m:\n\u001b[1;32m-> 1566\u001b[0m     X \u001b[38;5;241m=\u001b[39m \u001b[43mnp\u001b[49m\u001b[38;5;241;43m.\u001b[39;49m\u001b[43masarray\u001b[49m\u001b[43m(\u001b[49m\u001b[43mX\u001b[49m\u001b[43m)\u001b[49m\n\u001b[0;32m   1568\u001b[0m     \u001b[38;5;66;03m# Handle 1-dimensional arrays\u001b[39;00m\n\u001b[0;32m   1569\u001b[0m     \u001b[38;5;28;01mif\u001b[39;00m X\u001b[38;5;241m.\u001b[39mndim \u001b[38;5;241m==\u001b[39m \u001b[38;5;241m0\u001b[39m \u001b[38;5;129;01mor\u001b[39;00m X\u001b[38;5;241m.\u001b[39mndim \u001b[38;5;241m>\u001b[39m \u001b[38;5;241m2\u001b[39m:\n",
      "\u001b[1;31mValueError\u001b[0m: setting an array element with a sequence. The requested array has an inhomogeneous shape after 1 dimensions. The detected shape was (1672,) + inhomogeneous part."
     ]
    }
   ],
   "source": [
    "data_folder = r\"numerical data\"\n",
    "print(\"run cell\")\n",
    "\n",
    "features = []  # List to store feature vectors\n",
    "labels = []    # List to store corresponding labels\n",
    "\n",
    "for class_name in os.listdir(data_folder):\n",
    "    class_folder = os.path.join(data_folder, class_name)\n",
    "    print(f\"scaning folder {class_name}\")\n",
    "    if os.path.isdir(class_folder):\n",
    "        for file_name in os.listdir(class_folder):\n",
    "            file_path = os.path.join(class_folder, file_name)\n",
    "            if file_name.endswith(\".txt\"):\n",
    "                # Load the text file as a NumPy array\n",
    "                feature_vector = np.loadtxt(file_path, delimiter=\",\")\n",
    "                features.append(feature_vector)\n",
    "                labels.append(class_name)\n",
    "\n"
   ]
  },
  {
   "cell_type": "code",
   "execution_count": null,
   "id": "a00bcb8f-d61b-4676-af03-9a7b5fc232d2",
   "metadata": {},
   "outputs": [
    {
     "name": "stdout",
     "output_type": "stream",
     "text": [
      "cell\n",
      "max length 3630000\n"
     ]
    }
   ],
   "source": [
    "print(\"cell\")\n",
    "max_shape = np.max([feature_vector.shape for feature_vector in features], axis=0)\n",
    "\n",
    "#reshape all features to match max shape=\n",
    "max_length = max(len(feature_vector) for feature_vector in features)\n",
    "print(f\"max length {max_length}\")\n",
    "padded_features = [np.pad(feature_vector, (0, max_length - len(feature_vector)), mode='constant') for feature_vector in features]\n",
    "print(\"finished padding features\")\n",
    "np.savetxt('features.txt', padded_features, delimiter=',')\n",
    "np.savetxt('labels.txt', labels, delimiter=',')"
   ]
  },
  {
   "cell_type": "code",
   "execution_count": null,
   "id": "cbd097cd-c5ba-433e-b64d-b5535690400c",
   "metadata": {},
   "outputs": [],
   "source": [
    "\n",
    "\n",
    "X_train, X_test, y_train, y_test = train_test_split(padded_features, labels_arr, test_size=0.2, random_state=42)\n",
    "print(len(X_train))\n",
    "print(len(y_train))"
   ]
  },
  {
   "cell_type": "code",
   "execution_count": null,
   "id": "5c9e7f7f-2ee9-430b-b04e-841d7ca96bfa",
   "metadata": {},
   "outputs": [],
   "source": [
    "batch_size = 32  # Define the batch size\n",
    "\n",
    "num_samples = len(features)\n",
    "num_batches = int(np.ceil(num_samples / batch_size))\n",
    "\n",
    "\n",
    "model = svm.SVC(kernel='rbf')\n",
    "\n",
    "print(\"batch training model\")\n",
    "for batch_idx in range(num_batches):\n",
    "    start_idx = batch_idx * batch_size\n",
    "    end_idx = min((batch_idx + 1) * batch_size, num_samples)\n",
    "\n",
    "    batch_features = X_train[start_idx:end_idx]\n",
    "    batch_labels = y_train[start_idx:end_idx]\n",
    "\n",
    "    # Fit the model on the current batch\n",
    "    model.fit(batch_features, batch_labels)\n",
    "\n",
    "print(\"evaluation\")\n",
    "accuracy = svm_model.score(X_test, y_test)\n",
    "print(\"Accuracy:\", accuracy)\n",
    "print(\"finish\")"
   ]
  },
  {
   "cell_type": "code",
   "execution_count": null,
   "id": "2fcb56f0-4dd2-4390-9d5e-eab275ecd01c",
   "metadata": {},
   "outputs": [],
   "source": []
  }
 ],
 "metadata": {
  "kernelspec": {
   "display_name": "Python 3 (ipykernel)",
   "language": "python",
   "name": "python3"
  },
  "language_info": {
   "codemirror_mode": {
    "name": "ipython",
    "version": 3
   },
   "file_extension": ".py",
   "mimetype": "text/x-python",
   "name": "python",
   "nbconvert_exporter": "python",
   "pygments_lexer": "ipython3",
   "version": "3.11.4"
  }
 },
 "nbformat": 4,
 "nbformat_minor": 5
}
