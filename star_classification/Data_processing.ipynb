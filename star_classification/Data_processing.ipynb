{
 "cells": [
  {
   "cell_type": "code",
   "execution_count": 2,
   "id": "2961d756-32da-4141-97ed-c02fac7d4707",
   "metadata": {},
   "outputs": [],
   "source": [
    "import cv2 as cv\n",
    "import pandas as pd\n",
    "import numpy as np\n",
    "import matplotlib as plt\n",
    "import os\n"
   ]
  },
  {
   "cell_type": "markdown",
   "id": "54bf5467-18ad-4b76-b1f8-0600e79ebc87",
   "metadata": {},
   "source": [
    "<p>Image normalization: consistent resolution, normalizing pixel values <br>\n",
    "data augmentation \n",
    "\n",
    "</p>"
   ]
  },
  {
   "cell_type": "code",
   "execution_count": 29,
   "id": "2cf611cd-294c-457e-93a1-9b1f786e9527",
   "metadata": {},
   "outputs": [],
   "source": [
    "desired_height = 500\n",
    "desired_width = 500\n",
    "\n",
    "\n",
    "parent_folder_path = r\"raw data\"\n",
    "output_parent_folder = r\"processed data\"\n",
    "\n",
    "for subfolder_name in os.listdir(parent_folder_path):\n",
    "    subfolder_path = os.path.join(parent_folder_path, subfolder_name)\n",
    "\n",
    "    # Check if the item in the parent folder is a subfolder\n",
    "    if os.path.isdir(subfolder_path):\n",
    "        # Create a new directory\n",
    "        new_name = \"processed_\" + subfolder_name\n",
    "        output_folder_path = os.path.join(output_parent_folder, new_name)\n",
    "        os.makedirs(output_folder_path, exist_ok=True)\n",
    "\n",
    "\n",
    "        for filename in os.listdir(subfolder_path):\n",
    "\n",
    "            if filename.endswith(('.jpg', '.jpeg', '.png', '.bmp')):\n",
    "                image_path = os.path.join(subfolder_path, filename)\n",
    "                image = cv.imread(image_path)\n",
    "\n",
    "                resized_image = cv.resize(image, (desired_width, desired_height))\n",
    "\n",
    "                # Save the image\n",
    "                output_path = os.path.join(output_folder_path, subfolder_name, filename)\n",
    "                os.makedirs(os.path.dirname(output_path), exist_ok=True)\n",
    "                cv.imwrite(output_path, resized_image)\n"
   ]
  },
  {
   "cell_type": "code",
   "execution_count": null,
   "id": "6600e648-2271-4b72-9604-3fae4ee955ae",
   "metadata": {},
   "outputs": [],
   "source": []
  },
  {
   "cell_type": "code",
   "execution_count": null,
   "id": "5867ebec-b910-40cb-9064-d0668057d130",
   "metadata": {},
   "outputs": [],
   "source": []
  }
 ],
 "metadata": {
  "kernelspec": {
   "display_name": "Python 3 (ipykernel)",
   "language": "python",
   "name": "python3"
  },
  "language_info": {
   "codemirror_mode": {
    "name": "ipython",
    "version": 3
   },
   "file_extension": ".py",
   "mimetype": "text/x-python",
   "name": "python",
   "nbconvert_exporter": "python",
   "pygments_lexer": "ipython3",
   "version": "3.11.4"
  }
 },
 "nbformat": 4,
 "nbformat_minor": 5
}
