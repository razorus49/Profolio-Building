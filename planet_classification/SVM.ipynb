{
 "cells": [
  {
   "cell_type": "code",
   "execution_count": 1,
   "id": "538982bd",
   "metadata": {},
   "outputs": [],
   "source": [
    "import cv2 as cv\n",
    "from sklearn import svm\n",
    "from sklearn.metrics import accuracy_score\n",
    "from sklearn.model_selection import train_test_split\n",
    "import os\n",
    "import numpy as np\n",
    "from sklearn.naive_bayes import MultinomialNB\n",
    "from joblib import dump\n",
    "from skimage import img_as_float\n",
    "import matplotlib.pyplot as plt"
   ]
  },
  {
   "cell_type": "code",
   "execution_count": 3,
   "id": "02830617-ff8e-4a84-8962-8b0025dea51f",
   "metadata": {},
   "outputs": [],
   "source": [
    "def pad_features(features):\n",
    "    max_length = max(len(arr) for arr in features)\n",
    "\n",
    "    # Initialize a new array of zeros with the desired shape\n",
    "    padded_features = np.zeros((len(features), max_length))\n",
    "\n",
    "    # Copy the original arrays and pad with zeros\n",
    "    for i, arr in enumerate(features):\n",
    "        padded_features[i, :len(arr)] = arr\n",
    "\n",
    "    return padded_features\n"
   ]
  },
  {
   "cell_type": "code",
   "execution_count": 4,
   "id": "769a5d1f",
   "metadata": {},
   "outputs": [
    {
     "name": "stdout",
     "output_type": "stream",
     "text": [
      "scanning earth\n",
      "scanning jupiter\n",
      "scanning mars\n",
      "scanning mercury\n",
      "scanning neptune\n",
      "scanning saturn\n",
      "scanning uranus\n",
      "scanning venus\n",
      "(2483, 444675)\n"
     ]
    },
    {
     "name": "stderr",
     "output_type": "stream",
     "text": [
      "C:\\Users\\Illuminatus\\AppData\\Local\\Programs\\Python\\Python311\\Lib\\site-packages\\sklearn\\utils\\validation.py:1183: DataConversionWarning: A column-vector y was passed when a 1d array was expected. Please change the shape of y to (n_samples, ), for example using ravel().\n",
      "  y = column_or_1d(y, warn=True)\n"
     ]
    },
    {
     "name": "stdout",
     "output_type": "stream",
     "text": [
      "finish\n"
     ]
    }
   ],
   "source": [
    "train_folder = r\"processed data\"\n",
    "\n",
    "features = []\n",
    "labels = []\n",
    "model = svm.SVC(kernel = 'poly')\n",
    "\n",
    "i=0\n",
    "for subfolder in os.listdir(train_folder):\n",
    "    print(f\"scanning {subfolder}\")\n",
    "    subfolder_path = os.path.join(train_folder, subfolder)\n",
    "\n",
    "    for file in os.listdir(subfolder_path):\n",
    "        file_path = os.path.join(subfolder_path, file)\n",
    "        img = cv.imread(file_path)\n",
    "        img = img.flatten()\n",
    "        img = img_as_float(img)\n",
    "        features.append(img)\n",
    "        labels.append([i])\n",
    "\n",
    "    i+= 1\n",
    "features = np.asarray(pad_features(features))\n",
    "\n",
    "print(features.shape)\n",
    "model.fit(features, labels)\n",
    "print(\"finish\")"
   ]
  },
  {
   "cell_type": "code",
   "execution_count": 8,
   "id": "ca910b91",
   "metadata": {},
   "outputs": [
    {
     "name": "stdout",
     "output_type": "stream",
     "text": [
      "(59, 444675)\n",
      "0.4576271186440678\n"
     ]
    }
   ],
   "source": [
    "folder_path = r\"test\"\n",
    "\n",
    "max_length = max(len(arr) for arr in features)\n",
    "\n",
    "x_test = []\n",
    "y_test = []\n",
    "def pad_features(features, max_length):\n",
    "    padded_features = np.zeros((len(features), max_length))\n",
    "    for i, arr in enumerate(features):\n",
    "        padded_features[i, :len(arr)] = arr\n",
    "\n",
    "    return padded_features\n",
    "    \n",
    "i=0\n",
    "for subfolder in os.listdir(folder_path):\n",
    "    sub_path = os.path.join(folder_path, subfolder)\n",
    "\n",
    "    for file in os.listdir(sub_path):\n",
    "        file_path = os.path.join(sub_path, file)\n",
    "        img = cv.imread(file_path).flatten()\n",
    "        img = img_as_float(img)\n",
    "        x_test.append(img)\n",
    "        y_test.append(i)\n",
    "    i+=1\n",
    "\n",
    "x_test = pad_features(x_test, max_length)\n",
    "print(x_test.shape)\n",
    "y_preds = model.predict(x_test)\n",
    "print(accuracy_score(y_test, y_preds))\n",
    "        "
   ]
  },
  {
   "cell_type": "code",
   "execution_count": 21,
   "id": "18541356-e079-4af3-a342-6dd75ae8e947",
   "metadata": {},
   "outputs": [
    {
     "name": "stdout",
     "output_type": "stream",
     "text": [
      "earth\n",
      "[4] 0\n",
      "[0] 0\n",
      "[0] 0\n",
      "[3] 0\n",
      "[0] 0\n",
      "[0] 0\n",
      "[5] 0\n",
      "[0] 0\n",
      "[4] 0\n",
      "jupiter\n",
      "[2] 1\n",
      "[5] 1\n",
      "[1] 1\n",
      "[1] 1\n",
      "[1] 1\n",
      "[3] 1\n",
      "[5] 1\n",
      "[1] 1\n",
      "[5] 1\n",
      "[1] 1\n",
      "mars\n",
      "[2] 2\n",
      "[1] 2\n",
      "[2] 2\n",
      "[5] 2\n",
      "[2] 2\n",
      "[2] 2\n",
      "[2] 2\n",
      "mercury\n",
      "[1] 3\n",
      "[0] 3\n",
      "[3] 3\n",
      "[2] 3\n",
      "[3] 3\n",
      "[3] 3\n",
      "[3] 3\n",
      "[3] 3\n",
      "[3] 3\n",
      "neptune\n",
      "[3] 4\n",
      "[4] 4\n",
      "[4] 4\n",
      "[1] 4\n",
      "[3] 4\n",
      "[4] 4\n",
      "saturn\n",
      "[1] 5\n",
      "[1] 5\n",
      "[1] 5\n",
      "[5] 5\n",
      "[1] 5\n",
      "uranus\n",
      "[4] 6\n",
      "[4] 6\n",
      "[4] 6\n",
      "[0] 6\n",
      "[5] 6\n",
      "[0] 6\n",
      "[4] 6\n",
      "[4] 6\n",
      "[5] 6\n",
      "venus\n",
      "[1] 7\n",
      "[1] 7\n",
      "[1] 7\n",
      "[1] 7\n"
     ]
    }
   ],
   "source": [
    "j=0\n",
    "for subfolder in os.listdir(folder_path):\n",
    "    print(subfolder)\n",
    "    sub_path = os.path.join(folder_path, subfolder)\n",
    "\n",
    "    for file in os.listdir(sub_path):\n",
    "        file_path = os.path.join(sub_path, file)\n",
    "        img = cv.imread(file_path).flatten().reshape(1,-1)\n",
    "        img = img_as_float(img)\n",
    "        print(model.predict(img), j)\n",
    "    j+=1"
   ]
  },
  {
   "cell_type": "code",
   "execution_count": null,
   "id": "d2efc5fa-c57d-42db-a122-798abb8c894b",
   "metadata": {},
   "outputs": [],
   "source": []
  }
 ],
 "metadata": {
  "kernelspec": {
   "display_name": "Python 3 (ipykernel)",
   "language": "python",
   "name": "python3"
  },
  "language_info": {
   "codemirror_mode": {
    "name": "ipython",
    "version": 3
   },
   "file_extension": ".py",
   "mimetype": "text/x-python",
   "name": "python",
   "nbconvert_exporter": "python",
   "pygments_lexer": "ipython3",
   "version": "3.11.4"
  }
 },
 "nbformat": 4,
 "nbformat_minor": 5
}
