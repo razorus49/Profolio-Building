{
 "cells": [
  {
   "cell_type": "markdown",
   "id": "742454da-a1bb-4037-89d5-6373f85c008a",
   "metadata": {},
   "source": [
    "<H1>Environmental Monitoring with air quality prediction</H1>"
   ]
  },
  {
   "cell_type": "markdown",
   "id": "b9a2f222-7e87-4ab8-9dfc-d57af760cc58",
   "metadata": {},
   "source": [
    "<P>Air pollution affects humans and the ecosystem alike. Poor air quality leads to respiratory disease, while contributing to climate change which is a worldwide problem</P>"
   ]
  },
  {
   "cell_type": "code",
   "execution_count": null,
   "id": "a3610568-8a64-4a6a-bbc9-1993d601b420",
   "metadata": {},
   "outputs": [],
   "source": []
  },
  {
   "cell_type": "code",
   "execution_count": 1,
   "id": "4528f719-a67f-4098-936f-b3b665c140a7",
   "metadata": {},
   "outputs": [],
   "source": [
    "\n",
    "import pandas as pd\n",
    "import numpy as np\n",
    "import seaborn as sns\n",
    "import matplotlib.pyplot as plt\n",
    "\n",
    "from sklearn.model_selection import train_test_split\n",
    "from sklearn.neural_network import MLPRegressor\n",
    "from sklearn.tree import DecisionTreeRegressor\n",
    "from sklearn.neighbors import KNeighborsRegressor\n",
    "from sklearn.linear_model import LinearRegression\n",
    "\n",
    "from sklearn.metrics import r2_score, mean_absolute_error"
   ]
  },
  {
   "cell_type": "markdown",
   "id": "d760c4fd-1b9e-47f9-8416-8e70c03e0efd",
   "metadata": {},
   "source": [
    "<p>Remarks:\r\n",
    "1. All Pollutant unit in μg/m3 except CO which is in 10μg/m3<br>\r\n",
    "2. N.A. = data not available<br>\r\n",
    "3. CO = Carbon Monoxide<br>\r\n",
    "4. FSP = Fine Suspended Particulates<br>\r\n",
    "5. NO2 = Nitrogen Dioxide<br>\r\n",
    "6. NOX = Nitrogen Oxides<br>\r\n",
    "7. O3 = Ozone<br>\r\n",
    "8. RSP = Respirable Suspended Particulates<br>\r\n",
    "9. SO2 = Sulphur Dioxide<br>\r\n",
    "</p>xide\r\n",
    "</p>"
   ]
  },
  {
   "cell_type": "code",
   "execution_count": 20,
   "id": "d6b10b58-fc99-4ba2-8e90-fd1a3b2895b7",
   "metadata": {},
   "outputs": [
    {
     "name": "stdout",
     "output_type": "stream",
     "text": [
      "       DATE  STATION SO2  NOX  NO2   CO RSP    O3 FSP\n",
      "0  1/1/2010  CENTRAL  14  166   92   65  98  N.A.  51\n",
      "1  2/1/2010  CENTRAL  17  348  121  108  88  N.A.  55\n",
      "2  3/1/2010  CENTRAL   8  196   97   59  27  N.A.  18\n",
      "3  4/1/2010  CENTRAL  12  300  137  108  72  N.A.  50\n",
      "4  5/1/2010  CENTRAL  11  230  104  105  85  N.A.  59\n"
     ]
    }
   ],
   "source": [
    "file_path_1 = \"air_daily_2010-20.csv\"\n",
    "file_path_2 = \"air_daily_2000-10.csv\"\n",
    "df1 = pd.read_csv(file_path_1)\n",
    "df2 = pd.read_csv(file_path_2)\n",
    "df_air = df1.merge(df1, on=['DATE', 'STATION', 'SO2', 'NOX', 'NO2', 'CO', 'RSP', 'O3', 'FSP'])\n",
    "\n",
    "print(df_air.head())"
   ]
  },
  {
   "cell_type": "code",
   "execution_count": 24,
   "id": "e44f270a-c2aa-4054-9a72-843166698b40",
   "metadata": {},
   "outputs": [
    {
     "name": "stdout",
     "output_type": "stream",
     "text": [
      "   Report_Year  Total_GHG_emissions  Per_captia_emissions  Carbon_Intensity\n",
      "0         1990                35700                  6.27             0.034\n",
      "1         1991                39200                  6.82             0.035\n",
      "2         1992                43500                  7.50             0.037\n",
      "3         1993                43800                  7.42             0.035\n",
      "4         1994                36400                  6.03             0.027\n"
     ]
    }
   ],
   "source": [
    "greenhouse_gas_file_path = \"greenhouse_gas_emissions_and_carbon_intensity.json\"\n",
    "df_ghg = pd.read_json(greenhouse_gas_file_path)\n",
    "print(df_ghg.head())\n",
    "\n",
    "# Total_GHG_emissions\tTotal GHG emissions\n",
    "# (kilotonnes CO2-e)\tData type: Numeric\n",
    "\n",
    "# Unit: kilotonnes CO2-e\n"
   ]
  },
  {
   "cell_type": "code",
   "execution_count": null,
   "id": "5651b0ea-0068-47db-99b5-8dabace4a8c8",
   "metadata": {},
   "outputs": [],
   "source": []
  }
 ],
 "metadata": {
  "kernelspec": {
   "display_name": "Python 3 (ipykernel)",
   "language": "python",
   "name": "python3"
  },
  "language_info": {
   "codemirror_mode": {
    "name": "ipython",
    "version": 3
   },
   "file_extension": ".py",
   "mimetype": "text/x-python",
   "name": "python",
   "nbconvert_exporter": "python",
   "pygments_lexer": "ipython3",
   "version": "3.11.4"
  }
 },
 "nbformat": 4,
 "nbformat_minor": 5
}
